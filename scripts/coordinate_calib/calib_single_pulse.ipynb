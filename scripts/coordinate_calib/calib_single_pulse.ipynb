{
 "cells": [
  {
   "cell_type": "code",
   "execution_count": 35,
   "metadata": {},
   "outputs": [],
   "source": [
    "import os\n",
    "import sys\n",
    "sys.path.append(os.path.expanduser('~/albatros_analysis'))\n",
    "import numpy as np \n",
    "import numba as nb\n",
    "import time\n",
    "from scipy import linalg\n",
    "from scipy import stats\n",
    "from matplotlib import pyplot as plt\n",
    "from datetime import datetime as dt\n",
    "from src.correlations import baseband_data_classes as bdc\n",
    "from src.utils import baseband_utils as butils\n",
    "from src.utils import orbcomm_utils as outils\n",
    "from scipy.optimize import least_squares\n",
    "import src.correlations.correlations as corr"
   ]
  },
  {
   "cell_type": "code",
   "execution_count": 36,
   "metadata": {},
   "outputs": [],
   "source": [
    "@nb.njit()\n",
    "def get_common_rows(specnum0,specnum1,idxstart0,idxstart1):\n",
    "    nrows0,nrows1=specnum0.shape[0],specnum1.shape[0]\n",
    "    maxrows=min(nrows0,nrows1)\n",
    "    rownums0=np.empty(maxrows,dtype='int64')\n",
    "    rownums0[:]=-1\n",
    "    rownums1=rownums0.copy()\n",
    "    rowidx=rownums0.copy()\n",
    "    i=0;j=0;row_count=0;\n",
    "    while i<nrows0 and j<nrows1:\n",
    "        if (specnum0[i]-idxstart0)==(specnum1[j]-idxstart1):\n",
    "            rownums0[row_count]=i\n",
    "            rownums1[row_count]=j\n",
    "            rowidx[row_count]=specnum0[i]-idxstart0\n",
    "            i+=1\n",
    "            j+=1\n",
    "            row_count+=1\n",
    "        elif (specnum0[i]-idxstart0)>(specnum1[j]-idxstart1):\n",
    "            j+=1\n",
    "        else:\n",
    "            i+=1\n",
    "    return row_count,rownums0,rownums1,rowidx\n",
    "\n",
    "@nb.njit(parallel=True)\n",
    "def avg_xcorr_4bit_2ant_float(pol0,pol1,specnum0,specnum1,idxstart0,idxstart1,delay=None,freqs=None):\n",
    "    row_count,rownums0,rownums1,rowidx=get_common_rows(specnum0,specnum1,idxstart0,idxstart1)\n",
    "    ncols=pol0.shape[1]\n",
    "#     print(\"ncols\",ncols)\n",
    "    assert pol0.shape[1]==pol1.shape[1]\n",
    "    xcorr=np.zeros((row_count,ncols),dtype='complex64') # in the dev_gen_phases branch\n",
    "    if delay is not None:\n",
    "        for i in nb.prange(row_count):\n",
    "            for j in range(ncols):\n",
    "                xcorr[i,j] = pol0[rownums0[i],j]*np.conj(pol1[rownums1[i],j]*np.exp(2j*np.pi*delay[rowidx[i]]*freqs[j]))\n",
    "    else:\n",
    "        for i in nb.prange(row_count):\n",
    "            xcorr[i,:] = pol0[rownums0[i],:]*np.conj(pol1[rownums1[i],:])\n",
    "    return xcorr\n",
    "\n",
    "def get_coarse_xcorr(f1, f2, Npfb=4096):\n",
    "    if len(f1.shape) == 1:\n",
    "        f1 = f1.reshape(-1, 1)\n",
    "    if len(f2.shape) == 1:\n",
    "        f2 = f2.reshape(-1, 1)\n",
    "    chans = f1.shape[1]\n",
    "    Nsmall = f1.shape[0]\n",
    "    wt = np.zeros(2 * Nsmall)\n",
    "    wt[:Nsmall] = 1\n",
    "    n_avg = np.fft.irfft(np.fft.rfft(wt) * np.conj(np.fft.rfft(wt)))\n",
    "#     print(n_avg)\n",
    "#     n_avg[Nsmall] = np.nan\n",
    "#     print(n_avg[Nsmall-10:Nsmall+10])\n",
    "    n_avg = np.tile(n_avg, chans).reshape(chans, 2*Nsmall)\n",
    "#     print(n_avg.shape)\n",
    "    bigf1 = np.vstack([f1, np.zeros(f1.shape, dtype=f1.dtype)])\n",
    "    bigf2 = np.vstack([f2, np.zeros(f2.shape, dtype=f2.dtype)])\n",
    "    bigf1 = bigf1.T.copy()\n",
    "    bigf2 = bigf2.T.copy()\n",
    "    bigf1f = np.fft.fft(bigf1,axis=1)\n",
    "    bigf2f = np.fft.fft(bigf2,axis=1)\n",
    "    xx = bigf1f * np.conj(bigf2f)\n",
    "    xcorr = np.fft.ifft(xx,axis=1)\n",
    "    xcorr = xcorr / n_avg\n",
    "    xcorr[:,Nsmall] = np.nan\n",
    "    return xcorr\n",
    "\n",
    "    \n",
    "\n",
    "def phase_pred(fit_coords, pulse_idx, info):\n",
    "    \n",
    "    ref_coords = coords[0]\n",
    "\n",
    "    relative_start_time = info[pulse_idx][0][0]\n",
    "    pulse_duration_sec = info[pulse_idx][0][1] - info[pulse_idx][0][0]\n",
    "    pulse_duration_chunks = int( pulse_duration_sec / (T_SPECTRA * v_acclen) )\n",
    "\n",
    "\n",
    "    time_start = global_start_time + relative_start_time\n",
    "    sat_ID = info[pulse_idx][1]\n",
    "\n",
    "    pulse_channel_idx = info[pulse_idx][2]\n",
    "    pulse_freq = outils.chan2freq(pulse_channel_idx, alias=True)\n",
    "\n",
    "    # 'd' has one entry per second\n",
    "    d = outils.get_sat_delay(ref_coords, fit_coords, tle_path, time_start, visibility_window+1, sat_ID)\n",
    "    # 'delay' has one entry per chunk (~0.5s) \n",
    "    delay = np.interp(np.arange(0, v_nchunks) * v_acclen * T_SPECTRA, np.arange(0, int(visibility_window)+1), d)\n",
    "    #thus 'pred' has one entry for each chunk\n",
    "    pred = (-delay[:pulse_duration_chunks]+ delay[0]) *  2*np.pi * pulse_freq\n",
    "\n",
    "    return pred\n",
    "\n"
   ]
  },
  {
   "cell_type": "markdown",
   "metadata": {},
   "source": [
    "STANDARDIZED STARTING VARIABLES"
   ]
  },
  {
   "cell_type": "code",
   "execution_count": 37,
   "metadata": {},
   "outputs": [],
   "source": [
    "T_SPECTRA = 4096/250e6\n",
    "\n",
    "visibility_window = 1000\n",
    "\n",
    "c_acclen = 10**6 \n",
    "v_acclen = 30000\n",
    "\n",
    "C_T_ACCLEN = c_acclen* T_SPECTRA\n",
    "V_T_ACCLEN = v_acclen* T_SPECTRA\n",
    "\n",
    "c_nchunks = int((visibility_window)/C_T_ACCLEN)\n",
    "v_nchunks = int((visibility_window)/V_T_ACCLEN)\n",
    "\n",
    "data_version = \"MANUAL TESTER\"\n",
    "\n",
    "if data_version == \"MANUAL TESTER\":\n",
    "\n",
    "    a1_path = \"/scratch/s/sievers/mohanagr/mars1_2024/baseband/\"\n",
    "    a2_path = \"/scratch/s/sievers/mohanagr/mars2_2024/baseband/\"\n",
    "\n",
    "    global_start_time = 1721800002\n",
    "\n",
    "    a1_coords = [79+25.031/60, -90-46.041/60, 189]  # MARS 1\n",
    "    a2_coords = [79+25.033/60, -90-45.531/60, 176]  # MARS 2\n",
    "\n",
    "    bit_mode = 4\n",
    "\n",
    "elif data_version == \"SATDET TESTER\":\n",
    "\n",
    "    a1_coords = [79.41718333333333, -90.76735, 189]\n",
    "    a2_coords = [79.41721666666666, -90.75885, 176] #ant2\n",
    "    a3_coords = [79.41541666666667, -90.77308333333333, 175] #ant3\n",
    "\n",
    "    a1_path = \"/project/s/sievers/albatros/mars/202307/baseband/stn_1_central\"\n",
    "    a2_path = \"/project/s/sievers/albatros/mars/202307/baseband/stn_2_east\" #ant2\n",
    "    a3_path = \"/project/s/sievers/albatros/mars/202307/baseband/stn_3_west\" #ant3\n",
    "\n",
    "    global_start_time = 1699625045\n",
    "\n",
    "    bit_mode = 1\n",
    "\n",
    "tle_path = outils.get_tle_file(global_start_time, \"/project/s/sievers/mohanagr/OCOMM_TLES\")\n",
    "\n",
    "dir_parents = []\n",
    "dir_parents.append(a1_path)\n",
    "dir_parents.append(a2_path)\n",
    "\n",
    "coords = []\n",
    "coords.append(a1_coords)\n",
    "coords.append(a2_coords)"
   ]
  },
  {
   "cell_type": "markdown",
   "metadata": {},
   "source": [
    "Need a filtered pulses list (so that there are 5 good ones we can trust)"
   ]
  },
  {
   "cell_type": "code",
   "execution_count": 38,
   "metadata": {},
   "outputs": [],
   "source": [
    "#all these are detected. These numbers are the result of all the stuff above. What we care about starts now.\n",
    "\n",
    "if data_version == \"MANUAL TESTER\":\n",
    "        info = [[[715, 1110], 28654, 1836, 86568], \n",
    "                [[4950, 5270], 59051, 1836, 109993], \n",
    "                [[7000, 7145], 28654, 1836, 109993], \n",
    "                [[10975, 11440],59051, 1836, 86568],\n",
    "                [[17005, 17530], 59051, 1837, 86568]]\n",
    "\n",
    "elif data_version == \"SATDET TESTER\":\n",
    "        info = [[[0, 215], 33591, 1849, 77396],\n",
    "                [[505, 765], 28654, 1836, 67385],\n",
    "                [[1815, 2250], 57166, 1836, 53673],\n",
    "                [[4730, 4940], 25338, 1841, 71541]]"
   ]
  },
  {
   "cell_type": "code",
   "execution_count": 39,
   "metadata": {},
   "outputs": [],
   "source": [
    "pulse_idx = 0"
   ]
  },
  {
   "cell_type": "markdown",
   "metadata": {},
   "source": [
    "<h1 style=\"font-size:30pt\">OBSERVED PHASES</h1>"
   ]
  },
  {
   "cell_type": "code",
   "execution_count": 40,
   "metadata": {},
   "outputs": [
    {
     "name": "stdout",
     "output_type": "stream",
     "text": [
      "0\n",
      "initial offset: -1525879\n",
      "Corrected Starting Indices: 427246 1975729\n",
      "Not reading any data\n",
      "ACCLEN RECEIVED IS 30000\n",
      "took 0.160 seconds to read raw data on  /project/s/sievers/albatros/mars/202307/baseband/stn_1_central/16996/1699625038.raw\n",
      "START SPECNUM IS 9461419 obj start at 9034173\n",
      "ACCLEN RECEIVED IS 30000\n",
      "took 0.159 seconds to read raw data on  /project/s/sievers/albatros/mars/202307/baseband/stn_2_east/16996/1699625013.raw\n",
      "START SPECNUM IS 9739066 obj start at 7763337\n"
     ]
    }
   ],
   "source": [
    "relative_start_time = info[pulse_idx][0][0]\n",
    "print(relative_start_time)\n",
    "t_start = global_start_time + relative_start_time\n",
    "t_end = t_start + visibility_window\n",
    "\n",
    "files_a1, idx1 = butils.get_init_info(t_start, t_end, a1_path)\n",
    "files_a2, idx2 = butils.get_init_info(t_start, t_end, a2_path)\n",
    "\n",
    "print('initial offset:', idx1-idx2)\n",
    "\n",
    "idx_correction = info[pulse_idx][3] - 100000\n",
    "\n",
    "if idx_correction>0:\n",
    "    idx1_v = idx1 + idx_correction\n",
    "    idx2_v = idx2\n",
    "else:\n",
    "    idx2_v = idx2 + np.abs(idx_correction)\n",
    "    idx1_v = idx1\n",
    "print(\"Corrected Starting Indices:\", idx1_v, idx2_v)\n",
    "\n",
    "channels = bdc.get_header(files_a1[0])[\"channels\"].astype('int64')\n",
    "chanstart = np.where(channels == 1834)[0][0] \n",
    "chanend = np.where(channels == 1852)[0][0]\n",
    "nchans=chanend-chanstart\n",
    "\n",
    "pulse_chan = info[pulse_idx][2]\n",
    "chanmap = channels[chanstart:chanend].astype(int)\n",
    "\n",
    "ant1 = bdc.BasebandFileIterator(files_a1, 0, idx1_v, v_acclen, nchunks= v_nchunks, chanstart = chanstart, chanend = chanend, type='float')\n",
    "ant2 = bdc.BasebandFileIterator(files_a2, 0, idx2_v, v_acclen, nchunks= v_nchunks, chanstart = chanstart, chanend = chanend, type='float')"
   ]
  },
  {
   "cell_type": "code",
   "execution_count": 43,
   "metadata": {},
   "outputs": [
    {
     "ename": "",
     "evalue": "",
     "output_type": "error",
     "traceback": [
      "\u001b[1;31mThe Kernel crashed while executing code in the current cell or a previous cell. \n",
      "\u001b[1;31mPlease review the code in the cell(s) to identify a possible cause of the failure. \n",
      "\u001b[1;31mClick <a href='https://aka.ms/vscodeJupyterKernelCrash'>here</a> for more info. \n",
      "\u001b[1;31mView Jupyter <a href='command:jupyter.viewOutput'>log</a> for further details."
     ]
    }
   ],
   "source": [
    "m1=ant1.spec_num_start\n",
    "m2=ant2.spec_num_start\n",
    "visibility_phased = np.zeros((v_nchunks,len(ant1.channel_idxs)), dtype='complex64')\n",
    "st=time.time()\n",
    "\n",
    "print(bit_mode)\n",
    "print(f\"--------- Processing Pulse Idx {pulse_idx} ---------\")\n",
    "for i, (chunk1,chunk2) in enumerate(zip(ant1,ant2)):\n",
    "\n",
    "    if bit_mode == 4:\n",
    "        xcorr = avg_xcorr_4bit_2ant_float(\n",
    "            chunk1['pol0'], \n",
    "            chunk2['pol0'],\n",
    "            chunk1['specnums'],\n",
    "            chunk2['specnums'],\n",
    "            m1+i*v_acclen,\n",
    "            m2+i*v_acclen\n",
    "            )\n",
    "\n",
    "    elif bit_mode == 1:\n",
    "        xcorr = corr.avg_xcorr_1bit(\n",
    "            chunk1['pol0'], \n",
    "            chunk2['pol0'],\n",
    "            chunk1['specnums'],\n",
    "            nchans\n",
    "        )\n",
    "        \n",
    "    visibility_phased[i,:] = np.sum(xcorr,axis=0)/v_acclen\n",
    "    print(\"CHUNK\", i, \" has \", xcorr.shape[0], \" rows\")\n",
    "print(\"Time taken final:\", time.time()-st)\n",
    "visibility_phased = np.ma.masked_invalid(visibility_phased)\n",
    "vis_phase = np.angle(visibility_phased)"
   ]
  },
  {
   "cell_type": "code",
   "execution_count": null,
   "metadata": {},
   "outputs": [
    {
     "data": {
      "text/plain": [
       "<matplotlib.image.AxesImage at 0x1483ae8a4c50>"
      ]
     },
     "execution_count": 18,
     "metadata": {},
     "output_type": "execute_result"
    },
    {
     "data": {
      "image/png": "[encoded data removed]",
      "text/plain": [
       "<Figure size 640x480 with 1 Axes>"
      ]
     },
     "metadata": {},
     "output_type": "display_data"
    }
   ],
   "source": [
    "plt.imshow(vis_phase[:800,:], aspect='auto',cmap='RdBu',interpolation=\"none\")"
   ]
  },
  {
   "cell_type": "code",
   "execution_count": 42,
   "metadata": {},
   "outputs": [
    {
     "name": "stdout",
     "output_type": "stream",
     "text": [
      "15\n"
     ]
    },
    {
     "data": {
      "text/plain": [
       "[<matplotlib.lines.Line2D at 0x1483b4314810>]"
      ]
     },
     "execution_count": 42,
     "metadata": {},
     "output_type": "execute_result"
    },
    {
     "data": {
      "image/png": "[encoded data removed]",
      "text/plain": [
       "<Figure size 640x480 with 1 Axes>"
      ]
     },
     "metadata": {},
     "output_type": "display_data"
    }
   ],
   "source": [
    "pulse_duration_sec = info[pulse_idx][0][1] - info[pulse_idx][0][0]\n",
    "pulse_duration_chunks = int( pulse_duration_sec / (T_SPECTRA * v_acclen) )\n",
    "\n",
    "goofy_index = np.where(chanmap == pulse_chan)[0][0]\n",
    "print(goofy_index)\n",
    "\n",
    "obs0 = np.unwrap(vis_phase[0:pulse_duration_chunks, 16])\n",
    "plt.plot(obs0)"
   ]
  },
  {
   "cell_type": "code",
   "execution_count": null,
   "metadata": {},
   "outputs": [
    {
     "name": "stdout",
     "output_type": "stream",
     "text": [
      "catalog #28654 epoch 2024-07-24 20:56:55 UTC\n",
      "catalog #59051 epoch 2024-07-24 21:55:34 UTC\n",
      "catalog #28654 epoch 2024-07-24 20:56:55 UTC\n"
     ]
    }
   ],
   "source": [
    "pred0 = phase_pred(a2_coords, 0, info)\n",
    "pred1 = phase_pred(a2_coords, 1, info)\n",
    "pred2 = phase_pred(a2_coords, 2, info)"
   ]
  },
  {
   "cell_type": "code",
   "execution_count": null,
   "metadata": {},
   "outputs": [
    {
     "name": "stdout",
     "output_type": "stream",
     "text": [
      "803 803\n"
     ]
    },
    {
     "data": {
      "image/png": "[encoded data removed]",
      "text/plain": [
       "<Figure size 640x480 with 1 Axes>"
      ]
     },
     "metadata": {},
     "output_type": "display_data"
    }
   ],
   "source": [
    "plt.plot(obs0, color='blue')\n",
    "plt.plot(pred0, color='red')\n",
    "print(len(obs0), len(pred0))"
   ]
  },
  {
   "cell_type": "markdown",
   "metadata": {},
   "source": [
    "<h1 style=\"font-size:30pt\">FIT</h1>"
   ]
  },
  {
   "cell_type": "code",
   "execution_count": 133,
   "metadata": {},
   "outputs": [
    {
     "name": "stdout",
     "output_type": "stream",
     "text": [
      "803\n"
     ]
    }
   ],
   "source": [
    "# Inputs and outputs with different lengths\n",
    "observed_data = [obs0]\n",
    "print(len(obs0))"
   ]
  },
  {
   "cell_type": "code",
   "execution_count": 134,
   "metadata": {},
   "outputs": [],
   "source": [
    "# Initial guess for coordinates (e.g., [scale, offset])\n",
    "initial_guess = a2_coords"
   ]
  },
  {
   "cell_type": "code",
   "execution_count": 135,
   "metadata": {},
   "outputs": [],
   "source": [
    "def residuals(coords, observed_data, phase_pred, info):\n",
    "    \"\"\"\n",
    "    Compute the residuals between observed data and predicted data\n",
    "    for all datasets simultaneously.\n",
    "    \"\"\"\n",
    "    residuals_all = []\n",
    "\n",
    "    # Loop over all observed datasets using enumerate to get the index 'i'\n",
    "    for i, observed in enumerate(observed_data):\n",
    "        # Extract start and end times for the current pulse index 'i'\n",
    "        start_time = info[i][0][0]  # Start time (first element of info[i][0])\n",
    "        end_time = info[i][0][1]    # End time (second element of info[i][0])\n",
    "        \n",
    "        # Compute predicted data for the current pulse_idx and coordinates\n",
    "        predicted = phase_pred(coords, i, info)  # Pass 'i' instead of 'pulse_idx'\n",
    "        \n",
    "        # Compute the residuals (difference between observed and predicted)\n",
    "        res = observed - predicted\n",
    "        residuals_all.append(res.flatten())  # Flatten for least squares fitting\n",
    "    \n",
    "    # Combine all residuals into a single array (for least squares)\n",
    "    return np.concatenate(residuals_all)\n"
   ]
  },
  {
   "cell_type": "code",
   "execution_count": 144,
   "metadata": {},
   "outputs": [],
   "source": [
    "def fit_coordinates_all_datasets(observed_data, initial_coordinates, phase_pred, info):\n",
    "    \"\"\"\n",
    "    Fit a single set of coordinates to all observed data using least squares.\n",
    "    \"\"\"\n",
    "    \n",
    "    # Perform least squares optimization using SciPy's least_squares\n",
    "    result = least_squares(\n",
    "        lambda coords: residuals(coords, observed_data, phase_pred, info),  # Pass a lambda that calls residuals\n",
    "        initial_coordinates\n",
    "    )\n",
    "    \n",
    "    # Optimized coordinates after fitting\n",
    "    optimized_coordinates = result.x\n",
    "    return optimized_coordinates, result\n"
   ]
  },
  {
   "cell_type": "code",
   "execution_count": 145,
   "metadata": {},
   "outputs": [
    {
     "name": "stdout",
     "output_type": "stream",
     "text": [
      "catalog #28654 epoch 2024-07-24 20:56:55 UTC\n",
      "catalog #28654 epoch 2024-07-24 20:56:55 UTC\n",
      "catalog #28654 epoch 2024-07-24 20:56:55 UTC\n",
      "catalog #28654 epoch 2024-07-24 20:56:55 UTC\n",
      "catalog #28654 epoch 2024-07-24 20:56:55 UTC\n",
      "catalog #28654 epoch 2024-07-24 20:56:55 UTC\n",
      "catalog #28654 epoch 2024-07-24 20:56:55 UTC\n",
      "catalog #28654 epoch 2024-07-24 20:56:55 UTC\n",
      "catalog #28654 epoch 2024-07-24 20:56:55 UTC\n",
      "catalog #28654 epoch 2024-07-24 20:56:55 UTC\n",
      "catalog #28654 epoch 2024-07-24 20:56:55 UTC\n",
      "catalog #28654 epoch 2024-07-24 20:56:55 UTC\n",
      "catalog #28654 epoch 2024-07-24 20:56:55 UTC\n",
      "catalog #28654 epoch 2024-07-24 20:56:55 UTC\n",
      "catalog #28654 epoch 2024-07-24 20:56:55 UTC\n",
      "catalog #28654 epoch 2024-07-24 20:56:55 UTC\n",
      "catalog #28654 epoch 2024-07-24 20:56:55 UTC\n",
      "catalog #28654 epoch 2024-07-24 20:56:55 UTC\n",
      "catalog #28654 epoch 2024-07-24 20:56:55 UTC\n",
      "catalog #28654 epoch 2024-07-24 20:56:55 UTC\n",
      "catalog #28654 epoch 2024-07-24 20:56:55 UTC\n",
      "catalog #28654 epoch 2024-07-24 20:56:55 UTC\n",
      "catalog #28654 epoch 2024-07-24 20:56:55 UTC\n",
      "catalog #28654 epoch 2024-07-24 20:56:55 UTC\n",
      "catalog #28654 epoch 2024-07-24 20:56:55 UTC\n",
      "catalog #28654 epoch 2024-07-24 20:56:55 UTC\n",
      "catalog #28654 epoch 2024-07-24 20:56:55 UTC\n",
      "catalog #28654 epoch 2024-07-24 20:56:55 UTC\n",
      "catalog #28654 epoch 2024-07-24 20:56:55 UTC\n",
      "catalog #28654 epoch 2024-07-24 20:56:55 UTC\n",
      "catalog #28654 epoch 2024-07-24 20:56:55 UTC\n",
      "catalog #28654 epoch 2024-07-24 20:56:55 UTC\n",
      "catalog #28654 epoch 2024-07-24 20:56:55 UTC\n",
      "catalog #28654 epoch 2024-07-24 20:56:55 UTC\n",
      "catalog #28654 epoch 2024-07-24 20:56:55 UTC\n",
      "catalog #28654 epoch 2024-07-24 20:56:55 UTC\n",
      "catalog #28654 epoch 2024-07-24 20:56:55 UTC\n",
      "catalog #28654 epoch 2024-07-24 20:56:55 UTC\n",
      "catalog #28654 epoch 2024-07-24 20:56:55 UTC\n",
      "catalog #28654 epoch 2024-07-24 20:56:55 UTC\n",
      "catalog #28654 epoch 2024-07-24 20:56:55 UTC\n",
      "catalog #28654 epoch 2024-07-24 20:56:55 UTC\n",
      "catalog #28654 epoch 2024-07-24 20:56:55 UTC\n",
      "catalog #28654 epoch 2024-07-24 20:56:55 UTC\n"
     ]
    },
    {
     "data": {
      "text/plain": [
       "(array([ 79.41698306, -90.75441555, 321.11731535]),\n",
       "      message: Both `ftol` and `xtol` termination conditions are satisfied.\n",
       "      success: True\n",
       "       status: 4\n",
       "          fun: [ 1.378e+00  1.351e+00 ...  1.151e+00  5.682e-01]\n",
       "            x: [ 7.942e+01 -9.075e+01  3.211e+02]\n",
       "         cost: 67.532812712524\n",
       "          jac: [[ 0.000e+00 -0.000e+00  0.000e+00]\n",
       "                [-3.907e+02  2.722e+01 -1.798e-03]\n",
       "                ...\n",
       "                [-4.201e+05 -2.345e+04  5.120e-03]\n",
       "                [-4.204e+05 -2.351e+04  6.917e-03]]\n",
       "         grad: [-7.253e-01 -4.099e-02 -9.220e-03]\n",
       "   optimality: 0.7252662887331098\n",
       "  active_mask: [ 0.000e+00  0.000e+00  0.000e+00]\n",
       "         nfev: 17\n",
       "         njev: 9)"
      ]
     },
     "execution_count": 145,
     "metadata": {},
     "output_type": "execute_result"
    }
   ],
   "source": [
    "fit_coordinates_all_datasets(observed_data, initial_guess, phase_pred, info)"
   ]
  },
  {
   "cell_type": "code",
   "execution_count": 147,
   "metadata": {},
   "outputs": [
    {
     "data": {
      "text/plain": [
       "[79.41698306, -90.75441555, 321.11731535]"
      ]
     },
     "execution_count": 147,
     "metadata": {},
     "output_type": "execute_result"
    }
   ],
   "source": [
    "[79.41698306, -90.75441555, 321.11731535]\n",
    "\n"
   ]
  },
  {
   "cell_type": "code",
   "execution_count": 148,
   "metadata": {},
   "outputs": [
    {
     "name": "stdout",
     "output_type": "stream",
     "text": [
      "[79.41721666666666, -90.75885, 176]\n"
     ]
    }
   ],
   "source": [
    "print(a2_coords)"
   ]
  },
  {
   "cell_type": "code",
   "execution_count": null,
   "metadata": {},
   "outputs": [],
   "source": []
  }
 ],
 "metadata": {
  "kernelspec": {
   "display_name": "alb_env",
   "language": "python",
   "name": "python3"
  },
  "language_info": {
   "codemirror_mode": {
    "name": "ipython",
    "version": 3
   },
   "file_extension": ".py",
   "mimetype": "text/x-python",
   "name": "python",
   "nbconvert_exporter": "python",
   "pygments_lexer": "ipython3",
   "version": "3.11.5"
  }
 },
 "nbformat": 4,
 "nbformat_minor": 2
}
