{
 "cells": [
  {
   "cell_type": "code",
   "execution_count": 1,
   "metadata": {},
   "outputs": [],
   "source": [
    "from pyuvdata import UVData\n",
    "import numpy as np"
   ]
  },
  {
   "cell_type": "code",
   "execution_count": 21,
   "metadata": {},
   "outputs": [
    {
     "name": "stderr",
     "output_type": "stream",
     "text": [
      "itrs position vector magnitudes must be on the order of the radius of Earth -- they appear to lie well below this.\n"
     ]
    },
    {
     "ename": "ValueError",
     "evalue": "Required UVParameter _uvw_array has not been set.",
     "output_type": "error",
     "traceback": [
      "\u001b[31m---------------------------------------------------------------------------\u001b[39m",
      "\u001b[31mValueError\u001b[39m                                Traceback (most recent call last)",
      "\u001b[36mCell\u001b[39m\u001b[36m \u001b[39m\u001b[32mIn[21]\u001b[39m\u001b[32m, line 54\u001b[39m\n\u001b[32m     51\u001b[39m uv.phase_center_catalog = { \u001b[33m\"\u001b[39m\u001b[33mcat_name\u001b[39m\u001b[33m\"\u001b[39m : [], \u001b[33m\"\u001b[39m\u001b[33mcat_type\u001b[39m\u001b[33m\"\u001b[39m : [], \u001b[33m\"\u001b[39m\u001b[33mcat_lon\u001b[39m\u001b[33m\"\u001b[39m: [], \u001b[33m\"\u001b[39m\u001b[33mcat_lat\u001b[39m\u001b[33m\"\u001b[39m: [], \u001b[33m\"\u001b[39m\u001b[33mcat_frame\u001b[39m\u001b[33m\"\u001b[39m : []}\n\u001b[32m     53\u001b[39m \u001b[38;5;66;03m# Write to UVH5 file\u001b[39;00m\n\u001b[32m---> \u001b[39m\u001b[32m54\u001b[39m \u001b[43muv\u001b[49m\u001b[43m.\u001b[49m\u001b[43mwrite_uvh5\u001b[49m\u001b[43m(\u001b[49m\u001b[33;43m'\u001b[39;49m\u001b[33;43mexample_output.uvh5\u001b[39;49m\u001b[33;43m'\u001b[39;49m\u001b[43m,\u001b[49m\u001b[43m \u001b[49m\u001b[43mclobber\u001b[49m\u001b[43m=\u001b[49m\u001b[38;5;28;43;01mTrue\u001b[39;49;00m\u001b[43m)\u001b[49m\n",
      "\u001b[36mFile \u001b[39m\u001b[32m~/.virtualenvs/alb_env/lib/python3.11/site-packages/pyuvdata/uvdata/uvdata.py:11566\u001b[39m, in \u001b[36mUVData.write_uvh5\u001b[39m\u001b[34m(self, filename, clobber, chunks, data_compression, flags_compression, nsample_compression, data_write_dtype, run_check, check_extra, run_check_acceptability, strict_uvw_antpos_check, check_autos, fix_autos)\u001b[39m\n\u001b[32m  11559\u001b[39m     \u001b[38;5;28;01mraise\u001b[39;00m \u001b[38;5;167;01mValueError\u001b[39;00m(\n\u001b[32m  11560\u001b[39m         \u001b[33m\"\u001b[39m\u001b[33mCannot write out metadata only objects to a uvh5 file. To initialize \u001b[39m\u001b[33m\"\u001b[39m\n\u001b[32m  11561\u001b[39m         \u001b[33m\"\u001b[39m\u001b[33ma uvh5 file for partial writing, use the `initialize_uvh5_file` \u001b[39m\u001b[33m\"\u001b[39m\n\u001b[32m  11562\u001b[39m         \u001b[33m\"\u001b[39m\u001b[33mmethod.\u001b[39m\u001b[33m\"\u001b[39m\n\u001b[32m  11563\u001b[39m     )\n\u001b[32m  11565\u001b[39m uvh5_obj = \u001b[38;5;28mself\u001b[39m._convert_to_filetype(\u001b[33m\"\u001b[39m\u001b[33muvh5\u001b[39m\u001b[33m\"\u001b[39m)\n\u001b[32m> \u001b[39m\u001b[32m11566\u001b[39m \u001b[43muvh5_obj\u001b[49m\u001b[43m.\u001b[49m\u001b[43mwrite_uvh5\u001b[49m\u001b[43m(\u001b[49m\n\u001b[32m  11567\u001b[39m \u001b[43m    \u001b[49m\u001b[43mfilename\u001b[49m\u001b[43m,\u001b[49m\n\u001b[32m  11568\u001b[39m \u001b[43m    \u001b[49m\u001b[43mclobber\u001b[49m\u001b[43m=\u001b[49m\u001b[43mclobber\u001b[49m\u001b[43m,\u001b[49m\n\u001b[32m  11569\u001b[39m \u001b[43m    \u001b[49m\u001b[43mchunks\u001b[49m\u001b[43m=\u001b[49m\u001b[43mchunks\u001b[49m\u001b[43m,\u001b[49m\n\u001b[32m  11570\u001b[39m \u001b[43m    \u001b[49m\u001b[43mdata_compression\u001b[49m\u001b[43m=\u001b[49m\u001b[43mdata_compression\u001b[49m\u001b[43m,\u001b[49m\n\u001b[32m  11571\u001b[39m \u001b[43m    \u001b[49m\u001b[43mflags_compression\u001b[49m\u001b[43m=\u001b[49m\u001b[43mflags_compression\u001b[49m\u001b[43m,\u001b[49m\n\u001b[32m  11572\u001b[39m \u001b[43m    \u001b[49m\u001b[43mnsample_compression\u001b[49m\u001b[43m=\u001b[49m\u001b[43mnsample_compression\u001b[49m\u001b[43m,\u001b[49m\n\u001b[32m  11573\u001b[39m \u001b[43m    \u001b[49m\u001b[43mdata_write_dtype\u001b[49m\u001b[43m=\u001b[49m\u001b[43mdata_write_dtype\u001b[49m\u001b[43m,\u001b[49m\n\u001b[32m  11574\u001b[39m \u001b[43m    \u001b[49m\u001b[43mrun_check\u001b[49m\u001b[43m=\u001b[49m\u001b[43mrun_check\u001b[49m\u001b[43m,\u001b[49m\n\u001b[32m  11575\u001b[39m \u001b[43m    \u001b[49m\u001b[43mcheck_extra\u001b[49m\u001b[43m=\u001b[49m\u001b[43mcheck_extra\u001b[49m\u001b[43m,\u001b[49m\n\u001b[32m  11576\u001b[39m \u001b[43m    \u001b[49m\u001b[43mrun_check_acceptability\u001b[49m\u001b[43m=\u001b[49m\u001b[43mrun_check_acceptability\u001b[49m\u001b[43m,\u001b[49m\n\u001b[32m  11577\u001b[39m \u001b[43m    \u001b[49m\u001b[43mstrict_uvw_antpos_check\u001b[49m\u001b[43m=\u001b[49m\u001b[43mstrict_uvw_antpos_check\u001b[49m\u001b[43m,\u001b[49m\n\u001b[32m  11578\u001b[39m \u001b[43m    \u001b[49m\u001b[43mcheck_autos\u001b[49m\u001b[43m=\u001b[49m\u001b[43mcheck_autos\u001b[49m\u001b[43m,\u001b[49m\n\u001b[32m  11579\u001b[39m \u001b[43m    \u001b[49m\u001b[43mfix_autos\u001b[49m\u001b[43m=\u001b[49m\u001b[43mfix_autos\u001b[49m\u001b[43m,\u001b[49m\n\u001b[32m  11580\u001b[39m \u001b[43m\u001b[49m\u001b[43m)\u001b[49m\n\u001b[32m  11581\u001b[39m \u001b[38;5;28;01mdel\u001b[39;00m uvh5_obj\n",
      "\u001b[36mFile \u001b[39m\u001b[32m~/.virtualenvs/alb_env/lib/python3.11/site-packages/pyuvdata/uvdata/uvh5.py:1344\u001b[39m, in \u001b[36mUVH5.write_uvh5\u001b[39m\u001b[34m(self, filename, clobber, chunks, data_compression, flags_compression, nsample_compression, data_write_dtype, add_to_history, run_check, check_extra, run_check_acceptability, strict_uvw_antpos_check, check_autos, fix_autos)\u001b[39m\n\u001b[32m   1266\u001b[39m \u001b[38;5;250m\u001b[39m\u001b[33;03m\"\"\"\u001b[39;00m\n\u001b[32m   1267\u001b[39m \u001b[33;03mWrite an in-memory UVData object to a UVH5 file.\u001b[39;00m\n\u001b[32m   1268\u001b[39m \n\u001b[32m   (...)\u001b[39m\u001b[32m   1341\u001b[39m \u001b[33;03mdata_array encoded with bitshuffle (or an error will be raised).\u001b[39;00m\n\u001b[32m   1342\u001b[39m \u001b[33;03m\"\"\"\u001b[39;00m\n\u001b[32m   1343\u001b[39m \u001b[38;5;28;01mif\u001b[39;00m run_check:\n\u001b[32m-> \u001b[39m\u001b[32m1344\u001b[39m     \u001b[38;5;28;43mself\u001b[39;49m\u001b[43m.\u001b[49m\u001b[43mcheck\u001b[49m\u001b[43m(\u001b[49m\n\u001b[32m   1345\u001b[39m \u001b[43m        \u001b[49m\u001b[43mcheck_extra\u001b[49m\u001b[43m=\u001b[49m\u001b[43mcheck_extra\u001b[49m\u001b[43m,\u001b[49m\n\u001b[32m   1346\u001b[39m \u001b[43m        \u001b[49m\u001b[43mrun_check_acceptability\u001b[49m\u001b[43m=\u001b[49m\u001b[43mrun_check_acceptability\u001b[49m\u001b[43m,\u001b[49m\n\u001b[32m   1347\u001b[39m \u001b[43m        \u001b[49m\u001b[43mstrict_uvw_antpos_check\u001b[49m\u001b[43m=\u001b[49m\u001b[43mstrict_uvw_antpos_check\u001b[49m\u001b[43m,\u001b[49m\n\u001b[32m   1348\u001b[39m \u001b[43m        \u001b[49m\u001b[43mcheck_autos\u001b[49m\u001b[43m=\u001b[49m\u001b[43mcheck_autos\u001b[49m\u001b[43m,\u001b[49m\n\u001b[32m   1349\u001b[39m \u001b[43m        \u001b[49m\u001b[43mfix_autos\u001b[49m\u001b[43m=\u001b[49m\u001b[43mfix_autos\u001b[49m\u001b[43m,\u001b[49m\n\u001b[32m   1350\u001b[39m \u001b[43m    \u001b[49m\u001b[43m)\u001b[49m\n\u001b[32m   1352\u001b[39m \u001b[38;5;28;01mif\u001b[39;00m os.path.exists(filename):\n\u001b[32m   1353\u001b[39m     \u001b[38;5;28;01mif\u001b[39;00m clobber:\n",
      "\u001b[36mFile \u001b[39m\u001b[32m~/.virtualenvs/alb_env/lib/python3.11/site-packages/pyuvdata/uvdata/uvdata.py:2250\u001b[39m, in \u001b[36mUVData.check\u001b[39m\u001b[34m(self, check_extra, run_check_acceptability, check_freq_spacing, strict_uvw_antpos_check, allow_flip_conj, check_autos, fix_autos, lst_tol)\u001b[39m\n\u001b[32m   2247\u001b[39m \u001b[38;5;66;03m# first run the basic check from UVBase\u001b[39;00m\n\u001b[32m   2249\u001b[39m logger.debug(\u001b[33m\"\u001b[39m\u001b[33mDoing UVBase check...\u001b[39m\u001b[33m\"\u001b[39m)\n\u001b[32m-> \u001b[39m\u001b[32m2250\u001b[39m \u001b[38;5;28;43msuper\u001b[39;49m\u001b[43m(\u001b[49m\u001b[43m)\u001b[49m\u001b[43m.\u001b[49m\u001b[43mcheck\u001b[49m\u001b[43m(\u001b[49m\n\u001b[32m   2251\u001b[39m \u001b[43m    \u001b[49m\u001b[43mcheck_extra\u001b[49m\u001b[43m=\u001b[49m\u001b[43mcheck_extra\u001b[49m\u001b[43m,\u001b[49m\u001b[43m \u001b[49m\u001b[43mrun_check_acceptability\u001b[49m\u001b[43m=\u001b[49m\u001b[43mrun_check_acceptability\u001b[49m\n\u001b[32m   2252\u001b[39m \u001b[43m\u001b[49m\u001b[43m)\u001b[49m\n\u001b[32m   2253\u001b[39m logger.debug(\u001b[33m\"\u001b[39m\u001b[33m... Done UVBase Check\u001b[39m\u001b[33m\"\u001b[39m)\n\u001b[32m   2255\u001b[39m \u001b[38;5;66;03m# Check consistency between pol_convention and units of data\u001b[39;00m\n",
      "\u001b[36mFile \u001b[39m\u001b[32m~/.virtualenvs/alb_env/lib/python3.11/site-packages/pyuvdata/uvbase.py:700\u001b[39m, in \u001b[36mUVBase.check\u001b[39m\u001b[34m(self, check_extra, run_check_acceptability, ignore_requirements)\u001b[39m\n\u001b[32m    698\u001b[39m         \u001b[38;5;28;01mcontinue\u001b[39;00m\n\u001b[32m    699\u001b[39m     \u001b[38;5;28;01mif\u001b[39;00m param.required \u001b[38;5;129;01mis\u001b[39;00m \u001b[38;5;28;01mTrue\u001b[39;00m:\n\u001b[32m--> \u001b[39m\u001b[32m700\u001b[39m         \u001b[38;5;28;01mraise\u001b[39;00m \u001b[38;5;167;01mValueError\u001b[39;00m(\u001b[33mf\u001b[39m\u001b[33m\"\u001b[39m\u001b[33mRequired UVParameter \u001b[39m\u001b[38;5;132;01m{\u001b[39;00mp\u001b[38;5;132;01m}\u001b[39;00m\u001b[33m has not been set.\u001b[39m\u001b[33m\"\u001b[39m)\n\u001b[32m    701\u001b[39m \u001b[38;5;28;01melse\u001b[39;00m:\n\u001b[32m    702\u001b[39m     \u001b[38;5;66;03m# Check parameter shape\u001b[39;00m\n\u001b[32m    703\u001b[39m     eshape = param.expected_shape(\u001b[38;5;28mself\u001b[39m)\n",
      "\u001b[31mValueError\u001b[39m: Required UVParameter _uvw_array has not been set."
     ]
    }
   ],
   "source": [
    "# Initialize UVData object\n",
    "uv = UVData()\n",
    "\n",
    "# Define minimal parameters\n",
    "Nfreqs = 1\n",
    "Ntimes = 1\n",
    "Nbls = 1\n",
    "Npols = 1\n",
    "\n",
    "# Create fake data arrays\n",
    "data_array = np.ones((Nbls * Ntimes, Nfreqs, Npols), dtype=np.complex64)\n",
    "flag_array = np.zeros((Nbls * Ntimes, Nfreqs, Npols), dtype=bool)\n",
    "nsample_array = np.ones((Nbls * Ntimes, Nfreqs, Npols), dtype=np.float32)\n",
    "\n",
    "# Minimal metadata (replace with real values for actual use)\n",
    "uv.Nants_data = 2\n",
    "uv.Nants_telescope = 2\n",
    "uv.antenna_numbers = np.array([0, 1])\n",
    "uv.antenna_names = ['ant0', 'ant1']\n",
    "uv.baseline_array = np.array([uv.antnums_to_baseline(0, 1)])\n",
    "uv.antenna_positions = np.zeros((2,3))\n",
    "uv.ant_1_array = np.array([0])\n",
    "uv.ant_2_array = np.array([1])\n",
    "uv.Nbls = Nbls\n",
    "uv.Nblts = Nbls * Ntimes\n",
    "uv.Ntimes = Ntimes\n",
    "uv.Nfreqs = Nfreqs\n",
    "uv.Npols = Npols\n",
    "uv.Nspws = 1\n",
    "uv.Nphase = 1\n",
    "uv.freq_array = np.array([1e8])  # 100 MHz\n",
    "uv.polarization_array = np.array([-5])  # e.g., XX\n",
    "uv.spw_array = np.array([0])\n",
    "uv.channel_width = np.full((uv.Nfreqs), 10**6, dtype=float) # 1 MHz\n",
    "uv.integration_time = np.full((uv.Nblts), 10.0)\n",
    "uv.time_array = np.array([2459123.5])  # some Julian Date\n",
    "uv.lst_array = np.array([1.5])\n",
    "uv.telescope_name = 'FakeTelescope'\n",
    "uv.instrument = 'FakeInstrument'\n",
    "uv.telescope_location = (0.0, 0.0, 0.0)\n",
    "uv.history = 'History'\n",
    "uv.object_name = 'Object Name'\n",
    "uv.data_array = data_array\n",
    "uv.flag_array = flag_array\n",
    "uv.nsample_array = nsample_array\n",
    "uv.flex_spw_id_array = np.zeros((Nfreqs), dtype=int)\n",
    "uv.phase_center_app_dec = np.zeros(uv.Nblts)\n",
    "uv.phase_center_app_ra = np.zeros(uv.Nblts)\n",
    "uv.phase_center_frame_pa = np.zeros(uv.Nblts)\n",
    "uv.phase_center_id_array = np.zeros((uv.Nblts), dtype=int)\n",
    "uv.phase_center_catalog = { \"cat_name\" : [], \"cat_type\" : [], \"cat_lon\": [], \"cat_lat\": [], \"cat_frame\" : []}\n",
    "\n",
    "# Write to UVH5 file\n",
    "uv.write_uvh5('example_output.uvh5', clobber=True)\n"
   ]
  },
  {
   "cell_type": "code",
   "execution_count": null,
   "metadata": {},
   "outputs": [],
   "source": []
  }
 ],
 "metadata": {
  "kernelspec": {
   "display_name": "alb_env",
   "language": "python",
   "name": "python3"
  },
  "language_info": {
   "codemirror_mode": {
    "name": "ipython",
    "version": 3
   },
   "file_extension": ".py",
   "mimetype": "text/x-python",
   "name": "python",
   "nbconvert_exporter": "python",
   "pygments_lexer": "ipython3",
   "version": "3.11.5"
  }
 },
 "nbformat": 4,
 "nbformat_minor": 2
}
